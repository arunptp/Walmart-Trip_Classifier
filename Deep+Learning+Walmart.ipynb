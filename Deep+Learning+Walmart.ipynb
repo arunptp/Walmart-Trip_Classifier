{
 "cells": [
  {
   "cell_type": "code",
   "execution_count": 1,
   "metadata": {
    "collapsed": false
   },
   "outputs": [
    {
     "name": "stdout",
     "output_type": "stream",
     "text": [
      "Requirement already satisfied: keras in /usr/local/lib/python2.7/dist-packages\n",
      "Requirement already satisfied: six in /usr/local/lib/python2.7/dist-packages (from keras)\n",
      "Requirement already satisfied: theano in /usr/local/lib/python2.7/dist-packages (from keras)\n",
      "Requirement already satisfied: pyyaml in /usr/local/lib/python2.7/dist-packages (from keras)\n",
      "Requirement already satisfied: numpy>=1.9.1 in /usr/local/lib/python2.7/dist-packages (from theano->keras)\n",
      "Requirement already satisfied: scipy>=0.14 in /usr/local/lib/python2.7/dist-packages (from theano->keras)\n"
     ]
    }
   ],
   "source": [
    "!pip install keras"
   ]
  },
  {
   "cell_type": "code",
   "execution_count": 2,
   "metadata": {
    "collapsed": false
   },
   "outputs": [
    {
     "name": "stderr",
     "output_type": "stream",
     "text": [
      "Using TensorFlow backend.\n"
     ]
    }
   ],
   "source": [
    "from __future__ import print_function\n",
    "import keras\n",
    "from keras.datasets import mnist\n",
    "from keras.models import Sequential\n",
    "from keras.layers import Dense, Dropout, Flatten\n",
    "from keras.layers import Conv2D, MaxPooling2D\n",
    "from keras import backend as K\n",
    "import numpy as np\n",
    "import matplotlib.pyplot as plt\n",
    "%matplotlib inline\n",
    "import pandas as pd\n",
    "import plotly.plotly as py\n",
    "from plotly.graph_objs import *\n",
    "#import helper\n",
    "from cStringIO import StringIO"
   ]
  },
  {
   "cell_type": "code",
   "execution_count": 3,
   "metadata": {
    "collapsed": false
   },
   "outputs": [],
   "source": [
    "\n",
    "%%storage read --object \"gs://fresh-waters-176302/train.csv\" --variable text"
   ]
  },
  {
   "cell_type": "code",
   "execution_count": 4,
   "metadata": {
    "collapsed": true
   },
   "outputs": [],
   "source": [
    "def create_features() :\n",
    "    data = pd.read_csv(StringIO(text)) \n",
    "    data = data.dropna()\n",
    "    # Transforming weekday into numbers.\n",
    "    data = data.replace(\"Monday\", 1)\n",
    "    data = data.replace(\"Tuesday\", 2)\n",
    "    data = data.replace(\"Wednesday\", 3)\n",
    "    data = data.replace(\"Thursday\", 4)\n",
    "    data = data.replace(\"Friday\", 5)\n",
    "    data = data.replace(\"Saturday\", 6)\n",
    "    data = data.replace(\"Sunday\", 7)\n",
    "    descriptionDummies = pd.get_dummies(data.DepartmentDescription)\n",
    "    descriptionDummies = descriptionDummies.apply(lambda x: x*data[\"ScanCount\"])\n",
    "    data.loc[data.ScanCount < 0, 'Return'] = 1\n",
    "    data.loc[data.Return != 1, 'Return'] = 0\n",
    "    data = data[[\"TripType\", \"VisitNumber\", \"Weekday\", \"ScanCount\", \"Return\"]]\n",
    "    dataPart1 = data.groupby(\"VisitNumber\").agg({'Weekday': np.max, \"TripType\": np.max, 'ScanCount': np.sum, 'Return': np.max})\n",
    "    dataPart2 = pd.concat([data.VisitNumber,descriptionDummies],axis=1)\n",
    "    dataPart2 = dataPart2.groupby(\"VisitNumber\").agg('sum')\n",
    "    data = pd.concat([dataPart1, dataPart2], axis=1)\n",
    "    return data"
   ]
  },
  {
   "cell_type": "code",
   "execution_count": 5,
   "metadata": {
    "collapsed": false
   },
   "outputs": [],
   "source": [
    "data = create_features()"
   ]
  },
  {
   "cell_type": "code",
   "execution_count": 6,
   "metadata": {
    "collapsed": false
   },
   "outputs": [
    {
     "data": {
      "text/html": [
       "<div>\n",
       "<table border=\"1\" class=\"dataframe\">\n",
       "  <thead>\n",
       "    <tr style=\"text-align: right;\">\n",
       "      <th></th>\n",
       "      <th>TripType</th>\n",
       "      <th>Return</th>\n",
       "      <th>Weekday</th>\n",
       "      <th>ScanCount</th>\n",
       "      <th>1-HR PHOTO</th>\n",
       "      <th>ACCESSORIES</th>\n",
       "      <th>AUTOMOTIVE</th>\n",
       "      <th>BAKERY</th>\n",
       "      <th>BATH AND SHOWER</th>\n",
       "      <th>BEAUTY</th>\n",
       "      <th>...</th>\n",
       "      <th>SEAFOOD</th>\n",
       "      <th>SEASONAL</th>\n",
       "      <th>SERVICE DELI</th>\n",
       "      <th>SHEER HOSIERY</th>\n",
       "      <th>SHOES</th>\n",
       "      <th>SLEEPWEAR/FOUNDATIONS</th>\n",
       "      <th>SPORTING GOODS</th>\n",
       "      <th>SWIMWEAR/OUTERWEAR</th>\n",
       "      <th>TOYS</th>\n",
       "      <th>WIRELESS</th>\n",
       "    </tr>\n",
       "    <tr>\n",
       "      <th>VisitNumber</th>\n",
       "      <th></th>\n",
       "      <th></th>\n",
       "      <th></th>\n",
       "      <th></th>\n",
       "      <th></th>\n",
       "      <th></th>\n",
       "      <th></th>\n",
       "      <th></th>\n",
       "      <th></th>\n",
       "      <th></th>\n",
       "      <th></th>\n",
       "      <th></th>\n",
       "      <th></th>\n",
       "      <th></th>\n",
       "      <th></th>\n",
       "      <th></th>\n",
       "      <th></th>\n",
       "      <th></th>\n",
       "      <th></th>\n",
       "      <th></th>\n",
       "      <th></th>\n",
       "    </tr>\n",
       "  </thead>\n",
       "  <tbody>\n",
       "    <tr>\n",
       "      <th>5</th>\n",
       "      <td>999</td>\n",
       "      <td>1.0</td>\n",
       "      <td>5</td>\n",
       "      <td>-1</td>\n",
       "      <td>0</td>\n",
       "      <td>0</td>\n",
       "      <td>0</td>\n",
       "      <td>0</td>\n",
       "      <td>0</td>\n",
       "      <td>0</td>\n",
       "      <td>...</td>\n",
       "      <td>0</td>\n",
       "      <td>0</td>\n",
       "      <td>0</td>\n",
       "      <td>0</td>\n",
       "      <td>0</td>\n",
       "      <td>0</td>\n",
       "      <td>0</td>\n",
       "      <td>0</td>\n",
       "      <td>0</td>\n",
       "      <td>0</td>\n",
       "    </tr>\n",
       "    <tr>\n",
       "      <th>7</th>\n",
       "      <td>30</td>\n",
       "      <td>0.0</td>\n",
       "      <td>5</td>\n",
       "      <td>2</td>\n",
       "      <td>0</td>\n",
       "      <td>0</td>\n",
       "      <td>0</td>\n",
       "      <td>0</td>\n",
       "      <td>0</td>\n",
       "      <td>0</td>\n",
       "      <td>...</td>\n",
       "      <td>0</td>\n",
       "      <td>0</td>\n",
       "      <td>0</td>\n",
       "      <td>0</td>\n",
       "      <td>1</td>\n",
       "      <td>0</td>\n",
       "      <td>0</td>\n",
       "      <td>0</td>\n",
       "      <td>0</td>\n",
       "      <td>0</td>\n",
       "    </tr>\n",
       "    <tr>\n",
       "      <th>8</th>\n",
       "      <td>26</td>\n",
       "      <td>1.0</td>\n",
       "      <td>5</td>\n",
       "      <td>27</td>\n",
       "      <td>0</td>\n",
       "      <td>0</td>\n",
       "      <td>0</td>\n",
       "      <td>0</td>\n",
       "      <td>0</td>\n",
       "      <td>0</td>\n",
       "      <td>...</td>\n",
       "      <td>0</td>\n",
       "      <td>0</td>\n",
       "      <td>0</td>\n",
       "      <td>0</td>\n",
       "      <td>0</td>\n",
       "      <td>0</td>\n",
       "      <td>0</td>\n",
       "      <td>0</td>\n",
       "      <td>0</td>\n",
       "      <td>0</td>\n",
       "    </tr>\n",
       "    <tr>\n",
       "      <th>9</th>\n",
       "      <td>8</td>\n",
       "      <td>0.0</td>\n",
       "      <td>5</td>\n",
       "      <td>3</td>\n",
       "      <td>0</td>\n",
       "      <td>0</td>\n",
       "      <td>0</td>\n",
       "      <td>0</td>\n",
       "      <td>0</td>\n",
       "      <td>0</td>\n",
       "      <td>...</td>\n",
       "      <td>0</td>\n",
       "      <td>0</td>\n",
       "      <td>0</td>\n",
       "      <td>0</td>\n",
       "      <td>0</td>\n",
       "      <td>0</td>\n",
       "      <td>0</td>\n",
       "      <td>0</td>\n",
       "      <td>0</td>\n",
       "      <td>0</td>\n",
       "    </tr>\n",
       "    <tr>\n",
       "      <th>10</th>\n",
       "      <td>8</td>\n",
       "      <td>0.0</td>\n",
       "      <td>5</td>\n",
       "      <td>3</td>\n",
       "      <td>0</td>\n",
       "      <td>0</td>\n",
       "      <td>0</td>\n",
       "      <td>0</td>\n",
       "      <td>0</td>\n",
       "      <td>0</td>\n",
       "      <td>...</td>\n",
       "      <td>0</td>\n",
       "      <td>0</td>\n",
       "      <td>0</td>\n",
       "      <td>0</td>\n",
       "      <td>0</td>\n",
       "      <td>0</td>\n",
       "      <td>0</td>\n",
       "      <td>0</td>\n",
       "      <td>0</td>\n",
       "      <td>0</td>\n",
       "    </tr>\n",
       "  </tbody>\n",
       "</table>\n",
       "<p>5 rows × 72 columns</p>\n",
       "</div>"
      ],
      "text/plain": [
       "             TripType  Return  Weekday  ScanCount  1-HR PHOTO  ACCESSORIES  \\\n",
       "VisitNumber                                                                  \n",
       "5                 999     1.0        5         -1           0            0   \n",
       "7                  30     0.0        5          2           0            0   \n",
       "8                  26     1.0        5         27           0            0   \n",
       "9                   8     0.0        5          3           0            0   \n",
       "10                  8     0.0        5          3           0            0   \n",
       "\n",
       "             AUTOMOTIVE  BAKERY  BATH AND SHOWER  BEAUTY    ...     SEAFOOD  \\\n",
       "VisitNumber                                                 ...               \n",
       "5                     0       0                0       0    ...           0   \n",
       "7                     0       0                0       0    ...           0   \n",
       "8                     0       0                0       0    ...           0   \n",
       "9                     0       0                0       0    ...           0   \n",
       "10                    0       0                0       0    ...           0   \n",
       "\n",
       "             SEASONAL  SERVICE DELI  SHEER HOSIERY  SHOES  \\\n",
       "VisitNumber                                                 \n",
       "5                   0             0              0      0   \n",
       "7                   0             0              0      1   \n",
       "8                   0             0              0      0   \n",
       "9                   0             0              0      0   \n",
       "10                  0             0              0      0   \n",
       "\n",
       "             SLEEPWEAR/FOUNDATIONS  SPORTING GOODS  SWIMWEAR/OUTERWEAR  TOYS  \\\n",
       "VisitNumber                                                                    \n",
       "5                                0               0                   0     0   \n",
       "7                                0               0                   0     0   \n",
       "8                                0               0                   0     0   \n",
       "9                                0               0                   0     0   \n",
       "10                               0               0                   0     0   \n",
       "\n",
       "             WIRELESS  \n",
       "VisitNumber            \n",
       "5                   0  \n",
       "7                   0  \n",
       "8                   0  \n",
       "9                   0  \n",
       "10                  0  \n",
       "\n",
       "[5 rows x 72 columns]"
      ]
     },
     "execution_count": 6,
     "metadata": {},
     "output_type": "execute_result"
    }
   ],
   "source": [
    "data.head()"
   ]
  },
  {
   "cell_type": "code",
   "execution_count": 93,
   "metadata": {
    "collapsed": false
   },
   "outputs": [
    {
     "name": "stdout",
     "output_type": "stream",
     "text": [
      "65972 train samples\n",
      "28275 test samples\n",
      "71 Dimension\n",
      "(65972,)\n",
      "(65972, 71)\n",
      "(65972, 38)\n"
     ]
    },
    {
     "data": {
      "text/plain": [
       "array([[ -0.36201102,  -0.65048047,   0.52862159, ...,  -0.04292013,\n",
       "         -0.13490314,  -0.09200242],\n",
       "       [ -0.36201102,   0.33577598,  -0.44633301, ...,  -0.04292013,\n",
       "         -0.13490314,  -0.09200242],\n",
       "       [ -0.36201102,  -0.65048047,   0.23613521, ...,  -0.04292013,\n",
       "         -0.13490314,  -0.09200242],\n",
       "       ..., \n",
       "       [ -0.36201102,  -0.15735224,  -0.44633301, ...,  -0.04292013,\n",
       "         -0.13490314,   5.27931069],\n",
       "       [ -0.36201102,   0.33577598,  -0.54382847, ...,  -0.04292013,\n",
       "         -0.13490314,  10.6506238 ],\n",
       "       [ -0.36201102,   0.8289042 ,  -0.64132393, ...,  -0.04292013,\n",
       "         -0.13490314,  -0.09200242]])"
      ]
     },
     "execution_count": 93,
     "metadata": {},
     "output_type": "execute_result"
    }
   ],
   "source": [
    "from sklearn.cross_validation import train_test_split\n",
    "Y = data.iloc[:,0]\n",
    "X = data.iloc[:,1:]\n",
    "X_train, X_test, Y_train, Y_test = train_test_split(X, Y, test_size=0.3, random_state=0)\n",
    "X_train = X_train.astype('float32')\n",
    "X_test = X_test.astype('float32')\n",
    "from sklearn import preprocessing\n",
    "X_train = preprocessing.scale(X_train)\n",
    "X_test = preprocessing.scale(X_test) \n",
    "print(X_train.shape[0], 'train samples')\n",
    "print(X_test.shape[0], 'test samples')\n",
    "dim = X_train.shape[1]\n",
    "print (dim, 'Dimension')\n",
    "num_classes = 38\n",
    "\n",
    "print(Y_train.shape)\n",
    "print(X_train.shape)\n",
    "\n",
    "Y_train = Y_train.map({3:0, 4:1, 5:2, 6:3, 7:4, 8:5, 9:6, 12:7, 14:8, 15:9,  \n",
    "                                         18:10, 19:11, 20:12, 21:13, 22:14, 23:15, 24:16, 25:17, 26:18,  \n",
    "                                         27:19, 28:20, 29:21, 30:22, 31:23, 32:24, 33:25, 34:26, 35:27, \n",
    "                                         36:28, 37:29, 38:30, 39:31, 40:32, 41:33, 42:34, 43:35, 44:36, 999:37})\n",
    "\n",
    "Y_test = Y_test.map({3:0, 4:1, 5:2, 6:3, 7:4, 8:5, 9:6, 12:7, 14:8, 15:9,  \n",
    "                                         18:10, 19:11, 20:12, 21:13, 22:14, 23:15, 24:16, 25:17, 26:18,  \n",
    "                                         27:19, 28:20, 29:21, 30:22, 31:23, 32:24, 33:25, 34:26, 35:27, \n",
    "                                         36:28, 37:29, 38:30, 39:31, 40:32, 41:33, 42:34, 43:35, 44:36, 999:37})\n",
    "\n",
    "Y_train = keras.utils.to_categorical(Y_train, num_classes)\n",
    "Y_test = keras.utils.to_categorical(Y_test, num_classes)\n",
    "\n",
    "print(Y_train.shape)\n",
    "X_train"
   ]
  },
  {
   "cell_type": "code",
   "execution_count": 69,
   "metadata": {
    "collapsed": false
   },
   "outputs": [
    {
     "name": "stdout",
     "output_type": "stream",
     "text": [
      "Epoch 1/20\n",
      "65972/65972 [==============================] - 1s - loss: 0.6732 - acc: 0.6019     \n",
      "Epoch 2/20\n",
      "65972/65972 [==============================] - 1s - loss: 0.6250 - acc: 0.7388     \n",
      "Epoch 3/20\n",
      "65972/65972 [==============================] - 1s - loss: 0.5743 - acc: 0.8257     \n",
      "Epoch 4/20\n",
      "65972/65972 [==============================] - 1s - loss: 0.5158 - acc: 0.8852     \n",
      "Epoch 5/20\n",
      "65972/65972 [==============================] - 1s - loss: 0.4477 - acc: 0.9269     \n",
      "Epoch 6/20\n",
      "65972/65972 [==============================] - 1s - loss: 0.3716 - acc: 0.9534     \n",
      "Epoch 7/20\n",
      "65972/65972 [==============================] - 1s - loss: 0.2936 - acc: 0.9662     \n",
      "Epoch 8/20\n",
      "65972/65972 [==============================] - 1s - loss: 0.2239 - acc: 0.9718     \n",
      "Epoch 9/20\n",
      "65972/65972 [==============================] - 1s - loss: 0.1728 - acc: 0.9736     \n",
      "Epoch 10/20\n",
      "65972/65972 [==============================] - 1s - loss: 0.1454 - acc: 0.9736     \n",
      "Epoch 11/20\n",
      "65972/65972 [==============================] - 1s - loss: 0.1366 - acc: 0.9736     \n",
      "Epoch 12/20\n",
      "65972/65972 [==============================] - 1s - loss: 0.1360 - acc: 0.9736     \n",
      "Epoch 13/20\n",
      "65972/65972 [==============================] - 1s - loss: 0.1352 - acc: 0.9736     \n",
      "Epoch 14/20\n",
      "65972/65972 [==============================] - 1s - loss: 0.1314 - acc: 0.9736     \n",
      "Epoch 15/20\n",
      "65972/65972 [==============================] - 1s - loss: 0.1258 - acc: 0.9737     \n",
      "Epoch 16/20\n",
      "65972/65972 [==============================] - 1s - loss: 0.1209 - acc: 0.9737     \n",
      "Epoch 17/20\n",
      "65972/65972 [==============================] - 1s - loss: 0.1173 - acc: 0.9738     \n",
      "Epoch 18/20\n",
      "65972/65972 [==============================] - 1s - loss: 0.1143 - acc: 0.9739     \n",
      "Epoch 19/20\n",
      "65972/65972 [==============================] - 1s - loss: 0.1113 - acc: 0.9740     \n",
      "Epoch 20/20\n",
      "65972/65972 [==============================] - 1s - loss: 0.1086 - acc: 0.9740     \n"
     ]
    },
    {
     "data": {
      "text/plain": [
       "<keras.callbacks.History at 0x7fb1bf298dd0>"
      ]
     },
     "execution_count": 69,
     "metadata": {},
     "output_type": "execute_result"
    }
   ],
   "source": [
    "model = Sequential()\n",
    "model.add(Dense(dim, input_dim= dim, activation='relu'))\n",
    "model.add(Dense(100, activation='relu'))\n",
    "model.add(Dense(100, activation='relu'))\n",
    "model.add(Dense(num_classes, activation='sigmoid'))\n",
    "# Compile model\n",
    "model.compile(loss='binary_crossentropy', optimizer='adam', metrics=['accuracy'])\n",
    "# Fit the model\n",
    "model.fit(X_train, Y_train, epochs=20, batch_size=30000)"
   ]
  },
  {
   "cell_type": "code",
   "execution_count": 80,
   "metadata": {
    "collapsed": false
   },
   "outputs": [
    {
     "name": "stdout",
     "output_type": "stream",
     "text": [
      "27936/28275 [============================>.] - ETA: 0s\n",
      "acc: 97.41%\n"
     ]
    }
   ],
   "source": [
    "scores = model.evaluate(X_test, Y_test)\n",
    "print(\"\\n%s: %.2f%%\" % (model.metrics_names[1], scores[1]*100))"
   ]
  },
  {
   "cell_type": "code",
   "execution_count": 144,
   "metadata": {
    "collapsed": false
   },
   "outputs": [],
   "source": [
    "%%storage read --object \"gs://fresh-waters-176302/test.csv\" --variable text\n"
   ]
  },
  {
   "cell_type": "code",
   "execution_count": 122,
   "metadata": {
    "collapsed": true
   },
   "outputs": [],
   "source": [
    "def create_test_features() :\n",
    "    data = pd.read_csv(StringIO(text)) \n",
    "    data = data.dropna()\n",
    "    # Transforming weekday into numbers.\n",
    "    data = data.replace(\"Monday\", 1)\n",
    "    data = data.replace(\"Tuesday\", 2)\n",
    "    data = data.replace(\"Wednesday\", 3)\n",
    "    data = data.replace(\"Thursday\", 4)\n",
    "    data = data.replace(\"Friday\", 5)\n",
    "    data = data.replace(\"Saturday\", 6)\n",
    "    data = data.replace(\"Sunday\", 7)\n",
    "    descriptionDummies = pd.get_dummies(data.DepartmentDescription)\n",
    "    descriptionDummies = descriptionDummies.apply(lambda x: x*data[\"ScanCount\"])\n",
    "    data.loc[data.ScanCount < 0, 'Return'] = 1\n",
    "    data.loc[data.Return != 1, 'Return'] = 0\n",
    "    data = data[[\"VisitNumber\", \"Weekday\", \"ScanCount\", \"Return\"]]\n",
    "    dataPart1 = data.groupby(\"VisitNumber\").agg({'Weekday': np.max, 'ScanCount': np.sum, 'Return': np.max})\n",
    "    dataPart2 = pd.concat([data.VisitNumber,descriptionDummies],axis=1)\n",
    "    dataPart2 = dataPart2.groupby(\"VisitNumber\").agg('sum')\n",
    "    data = pd.concat([dataPart1, dataPart2], axis=1)\n",
    "    return data"
   ]
  },
  {
   "cell_type": "code",
   "execution_count": 145,
   "metadata": {
    "collapsed": false
   },
   "outputs": [
    {
     "name": "stdout",
     "output_type": "stream",
     "text": [
      "(653646, 6)\n",
      "(94288, 71)\n"
     ]
    }
   ],
   "source": [
    "testdata = pd.read_csv(StringIO(text)) \n",
    "print(testdata.shape)\n",
    "testdata = create_test_features()\n",
    "#testdata.rename(columns ={'X' : ''}, inplace=False)\n",
    "testdata['HEALTH AND BEAUTY AIDS'] = 0\n",
    "testdata\n",
    "print(testdata.shape)"
   ]
  },
  {
   "cell_type": "code",
   "execution_count": 130,
   "metadata": {
    "collapsed": false
   },
   "outputs": [
    {
     "data": {
      "text/plain": [
       "['TripType']"
      ]
     },
     "execution_count": 130,
     "metadata": {},
     "output_type": "execute_result"
    }
   ],
   "source": [
    "list1 = data.columns.tolist()\n",
    "list2 = testdata.columns.tolist()\n",
    "list(set(list1) - set(list2))"
   ]
  },
  {
   "cell_type": "code",
   "execution_count": null,
   "metadata": {
    "collapsed": false
   },
   "outputs": [],
   "source": [
    "testdata = testdata.astype('float32')\n",
    "testdata = preprocessing.scale(testdata)\n",
    "predicted = model.predict(testdata)\n",
    "print(predicted.shape)\n",
    "rounded = predicted.round()\n",
    "numpy.savetxt(\"upload.csv\", rounded, delimiter=\",\")\n",
    "\n",
    "#predicted_final = predicted.map({0:3, 1:4, 2:5, 3:6, 4:7, 5:8, 6:9, 7:12, 8:14, 9:15,  \n",
    "                                         #10:18, 11:19, 12:20, 13:21, 14:22, 15:23, 16:24, 17:25, 18:26,  \n",
    "                                         #19:27, 20:28, 21:29, 22:30, 23:31, 24:32, 25:33, 26:34, 27:35, \n",
    "                                         #28:36, 29:37, 30:38, 31:39, 32:40, 33:41, 34:42, 35:43, 36:44, 37:999})"
   ]
  },
  {
   "cell_type": "code",
   "execution_count": null,
   "metadata": {
    "collapsed": true
   },
   "outputs": [],
   "source": []
  }
 ],
 "metadata": {
  "kernelspec": {
   "display_name": "Python 2",
   "language": "python",
   "name": "python2"
  },
  "language_info": {
   "codemirror_mode": {
    "name": "ipython",
    "version": 2
   },
   "file_extension": ".py",
   "mimetype": "text/x-python",
   "name": "python",
   "nbconvert_exporter": "python",
   "pygments_lexer": "ipython2",
   "version": "2.7.9"
  }
 },
 "nbformat": 4,
 "nbformat_minor": 2
}
